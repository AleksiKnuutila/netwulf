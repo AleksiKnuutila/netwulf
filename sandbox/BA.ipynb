{
 "cells": [
  {
   "cell_type": "code",
   "execution_count": 2,
   "metadata": {},
   "outputs": [
    {
     "name": "stdout",
     "output_type": "stream",
     "text": [
      "changing directory to /Users/bfmaier/.netwulf\n",
      "starting server here ... /Users/bfmaier/.netwulf\n",
      "127.0.0.1 10/Apr/2019 07:06:33 GET /?data=tmp_16a075b6b94.json&config=config_tmp_16a075b6b94.json HTTP/1.1 200 -\n",
      "127.0.0.1 10/Apr/2019 07:06:33 GET /libs/sweetalert2.all.min.js HTTP/1.1 304 -\n",
      "127.0.0.1 10/Apr/2019 07:06:33 GET /config_tmp_16a075b6b94.json HTTP/1.1 200 -\n",
      "127.0.0.1 10/Apr/2019 07:06:33 GET /tmp_16a075b6b94.json HTTP/1.1 200 -\n",
      "127.0.0.1 10/Apr/2019 07:06:36 POST /?data=tmp_16a075b6b94.json&config=config_tmp_16a075b6b94.json HTTP/1.1 200 -\n",
      "Successfully posted network data to Python!\n",
      "stopping server ...\n",
      "was asked to stop the server\n",
      "deleted all files\n",
      "changing directory back to /Users/bfmaier/Seafile/forschung/independent-python-packages/netwulf/sandbox\n"
     ]
    }
   ],
   "source": [
    "import networkx as nx\n",
    "from netwulf import visualize\n",
    "\n",
    "G = nx.barabasi_albert_graph(100,2)\n",
    "\n",
    "stylized_network, config = visualize(G,verbose=True)"
   ]
  },
  {
   "cell_type": "code",
   "execution_count": null,
   "metadata": {},
   "outputs": [],
   "source": []
  }
 ],
 "metadata": {
  "kernelspec": {
   "display_name": "Python 3",
   "language": "python",
   "name": "python3"
  },
  "language_info": {
   "codemirror_mode": {
    "name": "ipython",
    "version": 3
   },
   "file_extension": ".py",
   "mimetype": "text/x-python",
   "name": "python",
   "nbconvert_exporter": "python",
   "pygments_lexer": "ipython3",
   "version": "3.7.2"
  }
 },
 "nbformat": 4,
 "nbformat_minor": 2
}
